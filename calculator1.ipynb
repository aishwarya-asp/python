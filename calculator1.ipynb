{
 "cells": [
  {
   "cell_type": "code",
   "execution_count": 7,
   "metadata": {},
   "outputs": [],
   "source": [
    "from tkinter import*\n",
    "\n",
    "def btnClick(no):\n",
    "    global operator\n",
    "    operator=operator +str(no)\n",
    "    text_Input.set(operator)\n",
    "\n",
    "def btnClearDisplay():\n",
    "        global operator\n",
    "        operator=\"\"\n",
    "        text_Input.set(\"\")\n",
    "\n",
    "def btnEqalInput():\n",
    "    global operator\n",
    "    sumup=str(eval(operator))\n",
    "    text_Input.set(sumup)\n",
    "    operator=\"\"\n",
    "\n",
    "cal = Tk()\n",
    "\n",
    "cal.title(\"Calculator\")\n",
    "operator=\"\"\n",
    "text_Input=StringVar()\n",
    "\n",
    "\n",
    "txtDisplay = Entry(cal,font=('arial',20,'bold'), textvariable = text_Input , bd=30 , insertwidth = 4 , bg = 'powder blue' , justify = 'right' ).grid(columnspan=4)\n",
    "\n",
    "btn7=Button(cal,padx = 16,pady = 16, bd = 8, fg = \"Black\",font=('arial',20,'bold'),text = \"7\",bg = 'light gray',command=lambda:btnClick(7)).grid(row=1,column=0)\n",
    "btn8=Button(cal,padx = 16,pady = 16, bd = 8, fg = \"Black\",font=('arial',20,'bold'),text = \"8\",bg = 'light gray',command=lambda:btnClick(8)).grid(row=1,column=1)\n",
    "btn9=Button(cal,padx = 16,pady = 16, bd = 8, fg = \"Black\",font=('arial',20,'bold'),text = \"9\",bg = 'light gray',command=lambda:btnClick(9)).grid(row=1,column=2)\n",
    "Addtion=Button(cal,padx = 16,pady = 16, bd = 8, fg = \"Black\",font=('arial',20,'bold'),text = \"+\",bg = 'powder blue',command=lambda:btnClick(\"+\")).grid(row=1,column=3)\n",
    "#first line end's here\n",
    "btn4=Button(cal,padx = 16,pady = 16, bd = 8, fg = \"Black\",font=('arial',20,'bold'),text = \"4\",bg = 'light gray',command=lambda:btnClick(4)).grid(row=2,column=0)\n",
    "btn5=Button(cal,padx = 16,pady = 16, bd = 8, fg = \"Black\",font=('arial',20,'bold'),text = \"5\",bg = 'light gray',command=lambda:btnClick(5)).grid(row=2,column=1)\n",
    "btn6=Button(cal,padx = 16,pady = 16, bd = 8, fg = \"Black\",font=('arial',20,'bold'),text = \"6\",bg = 'light gray',command=lambda:btnClick(6)).grid(row=2,column=2)\n",
    "Subtraction=Button(cal,padx = 16,pady = 16, bd = 8, fg = \"Black\",font=('arial',20,'bold'),text = \"-\",bg = 'powder blue',command=lambda:btnClick(\"-\")).grid(row=2,column=3)\n",
    "#second line end's here\n",
    "btn1=Button(cal,padx = 16,pady = 16, bd = 8, fg = \"Black\",font=('arial',20,'bold'),text = \"1\",bg = 'light gray',command=lambda:btnClick(1)).grid(row=3,column=0)\n",
    "btn2=Button(cal,padx = 16,pady = 16, bd = 8, fg = \"Black\",font=('arial',20,'bold'),text = \"2\",bg = 'light gray',command=lambda:btnClick(2)).grid(row=3,column=1)\n",
    "btn3=Button(cal,padx = 16,pady = 16, bd = 8, fg = \"Black\",font=('arial',20,'bold'),text = \"3\",bg = 'light gray',command=lambda:btnClick(3)).grid(row=3,column=2)\n",
    "Multiplication=Button(cal,padx = 16,pady = 16, bd = 8, fg = \"Black\",font=('arial',20,'bold'),text = \"*\",bg = 'powder blue',command=lambda:btnClick(\"*\")).grid(row=3,column=3)\n",
    "#third line end's here\n",
    "Clear=Button(cal,padx = 16,pady = 16, bd = 8, fg = \"Black\",font=('arial',20,'bold'),text = \"C\",bg = 'powder blue',command=btnClearDisplay).grid(row=4,column=0)\n",
    "btn0=Button(cal,padx = 16,pady = 16, bd = 8, fg = \"Black\",font=('arial',20,'bold'),text = \"0\",bg = 'light gray',command=lambda:btnClick(0)).grid(row=4,column=1)\n",
    "Euals=Button(cal,padx = 16,pady = 16, bd = 8, fg = \"Black\",font=('arial',20,'bold'),text = \"=\",bg = 'powder blue',command=btnEqalInput).grid(row=4,column=2)\n",
    "Divide=Button(cal,padx = 16,pady = 16, bd = 8, fg = \"Black\",font=('arial',20,'bold'),text = \"/\",bg = 'powder blue',command=lambda:btnClick(\"/\")).grid(row=4,column=3)\n",
    "#third line end's here\n",
    "\n",
    "\n",
    "\n",
    "cal.mainloop()\n"
   ]
  },
  {
   "cell_type": "code",
   "execution_count": null,
   "metadata": {},
   "outputs": [],
   "source": []
  }
 ],
 "metadata": {
  "kernelspec": {
   "display_name": "Python 3",
   "language": "python",
   "name": "python3"
  },
  "language_info": {
   "codemirror_mode": {
    "name": "ipython",
    "version": 3
   },
   "file_extension": ".py",
   "mimetype": "text/x-python",
   "name": "python",
   "nbconvert_exporter": "python",
   "pygments_lexer": "ipython3",
   "version": "3.7.6"
  }
 },
 "nbformat": 4,
 "nbformat_minor": 4
}
